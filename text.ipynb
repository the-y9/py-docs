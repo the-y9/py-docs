{
 "cells": [
  {
   "cell_type": "code",
   "execution_count": 42,
   "metadata": {},
   "outputs": [
    {
     "data": {
      "text/plain": [
       "1765206"
      ]
     },
     "execution_count": 42,
     "metadata": {},
     "output_type": "execute_result"
    }
   ],
   "source": [
    "from pdfminer.high_level import extract_text\n",
    "\n",
    "def extract_text_from_page(pdf_path, start_page, end_page):\n",
    "    return extract_text(pdf_path, page_numbers=range(start_page - 1, end_page -1))  # 0-based index\n",
    "\n",
    "\n",
    "pdf_path = r\"C:\\Users\\dell\\Desktop\\docs\\BG_As_It_Is.pdf\"\n",
    "page_number = 43\n",
    "end_page = 1051\n",
    "pdf_text = extract_text_from_page(pdf_path, page_number, end_page)\n",
    "len(pdf_text)\n"
   ]
  },
  {
   "cell_type": "code",
   "execution_count": 43,
   "metadata": {},
   "outputs": [
    {
     "data": {
      "text/plain": [
       "'- CHAPTER 1 -\\nObserving the Armies on the Battlefield of Kurukñetra\\n\\nTEXT  1\\n\\nDa*Taraí\\\\ ovac\\n\\nDaMaR+ae}ae ku-å+ae}ae SaMaveTaa YauYauTSav\" )\\n\\nMaaMak-a\" Paa<@vaêEv ik-Maku-vRTa SaÅYa )) 1 ))\\n\\ndhåtaräñöra uväca\\ndharma-kñetre kuru-kñetre\\nsamavetä yuyutsavaù\\nmämakäù päëòaväç caiva\\nkim akurvata saïjaya\\n\\nSYNONYMS\\n\\ndhåtaräñöraù uväca—King Dhåtaräñöra said; dharma-kñetre—in the place of\\npilgrimage; kuru-kñetre—in the place named Kurukñetra;\\nsamavetäù—assembled; yuyutsavaù—desiring to fight; mämakäù—my party\\n(sons); päëòaväù—the sons of Päëòu; ca—and; eva—certainly; kim—what;\\nakurvata—did they do; saïjaya—O Saïjaya.\\n\\nTRANSLATION\\n\\nDhåtaräñöra said: O Saïjaya, after my sons and the sons of Päëòu assembled\\n\\nin the place of pilgrimage at Kurukñetra, desiring to fight, what did they do?\\n\\nPURPORT\\n\\nCopyright © 1998 The Bhaktivedanta Book Trust Int\\'l. All Rights Reserved.\\n\\n\\x0cBhagavad-gétä  is  the  widely  read  theistic  science  summarized  in  the\\nGétä-mähätmya (Glorification of the Gétä). There it says that one should read\\nBhagavad-gétä very scrutinizingly with the help of a person who is a devotee of\\nÇré  Kåñëa  and  try  to  understand \\nit  without  personally  motivated\\ninterpretations.  The  example  of  clear  understanding  is  there  in  the\\nBhagavad-gétä  itself,  in  the  way  the  teaching  is  understood  by  Arjuna,  who\\nheard  the  Gétä  directly  from  the  Lord.  If  someone  is  fortunate  enough  to\\nunderstand  Bhagavad-gétä  in  that  line  of  disciplic  succession,  without\\nmotivated interpretation, then he surpasses all studies of Vedic wisdom, and all\\nscriptures of the world. One will find in the Bhagavad-gétä all that is contained\\nin  other  scriptures,  but  the  reader  will  also  find  things  which  are  not  to  be\\nfound  elsewhere.  That  is  the  specific  standard  of  the  Gétä.  It  is  the  perfect\\ntheistic  science  because  it  is  directly  spoken  by  the  Supreme  Personality  of\\nGodhead, Lord Çré Kåñëa.\\n\\nThe  topics  discussed  by  Dhåtaräñöra  and  Saïjaya,  as  described  in  the\\nMahäbhärata,  form  the  basic  principle  for  this  great  philosophy.  It  is\\nunderstood  that  this  philosophy  evolved  on  the  Battlefield  of  Kurukñetra,\\nwhich is a sacred place of pilgrimage from the immemorial time of the Vedic\\nage. It was spoken by the Lord when He was present personally on this planet\\nfor the guidance of mankind.\\n\\nThe  word  dharma-kñetra  (a  place  where  religious  rituals  are  performed)  is\\nsignificant because, on the Battlefield of Kurukñetra, the Supreme Personality\\nof Godhead was present on the side of Arjuna. Dhåtaräñöra, the father of the\\nKurus, was highly doubtful about the possibility of his sons’ ultimate victory. In\\nhis doubt, he inquired from his secretary Saïjaya, “What did they do?” He was\\nconfident that both his sons and the sons of his younger brother Päëòu were\\nassembled in that Field of Kurukñetra for a determined engagement of the war.\\nStill,  his  inquiry  is  significant.  He  did  not  want  a  compromise  between  the\\ncousins and brothers, and he wanted to be sure of the fate of his sons on the\\nbattlefield. Because the battle was arranged to be fought at Kurukñetra, which\\nis  mentioned  elsewhere  in  the  Vedas  as  a  place  of  worship—even  for  the\\ndenizens  of  heaven—Dhåtaräñöra  became  very  fearful  about  the  influence  of\\nthe holy place on the outcome of the battle. He knew very well that this would\\n\\nCopyright © 1998 The Bhaktivedanta Book Trust Int\\'l. All Rights Reserved.\\n\\n\\x0cinfluence  Arjuna  and  the  sons  of  Päëòu  favorably,  because  by  nature  they\\nwere all virtuous. Saïjaya was a student of Vyäsa, and therefore, by the mercy\\nof Vyäsa, Saïjaya was able to envision the Battlefield of Kurukñetra even while\\nhe  was  in  the  room  of  Dhåtaräñöra.  And  so,  Dhåtaräñöra  asked  him  about  the\\nsituation on the battlefield.\\n\\nBoth the Päëòavas and the sons of Dhåtaräñöra belong to the same family,\\nbut  Dhåtaräñöra’s  mind  is  disclosed  herein.  He  deliberately  claimed  only  his\\nsons  as  Kurus,  and  he  separated  the  sons  of  Päëòu  from  the  family  heritage.\\nOne  can  thus  understand  the  specific  position  of  Dhåtaräñöra  in  his\\nrelationship  with  his  nephews,  the  sons  of  Päëòu.  As  in  the  paddy  field  the\\nunnecessary plants are taken out, so it is expected from the very beginning of\\nthese  topics  that  in  the  religious  field  of  Kurukñetra,  where  the  father  of\\nreligion,  Çré  Kåñëa,  was  present,  the  unwanted  plants  like  Dhåtaräñöra’s  son\\nDuryodhana  and  others  would  be  wiped  out  and  the  thoroughly  religious\\npersons, headed by Yudhiñöhira, would be established by the Lord. This is the\\nsignificance  of  the  words  dharma-kñetre  and  kuru-kñetre,  apart  from  their\\nhistorical and Vedic importance.\\n\\nTEXT  2\\n\\nSaÅYa ovac\\n\\nd*îa Tau Paa<@vaNaqk&- VYaU!& duYaaeRDaNaSTada )\\n\\nAacaYaRMauPaSa®MYa raJaa vcNaMab]vqTa( )) 2 ))\\n\\nsaïjaya uväca\\ndåñövä tu päëòavänékaà\\nvyüòhaà duryodhanas tadä\\näcäryam upasaìgamya\\nräjä vacanam abravét\\n\\nSYNONYMS\\n\\nsaïjayaù uväca—Saïjaya said; dåñövä—after seeing; tu—but;\\n\\nCopyright © 1998 The Bhaktivedanta Book Trust Int\\'l. All Rights Reserved.\\n\\n\\x0cpäëòava-anékam—the soldiers of the Päëòavas; vyüòham—arranged in a\\nmilitary phalanx; duryodhanaù—King Duryodhana; tadä—at that time;\\näcäryam—the teacher; upasaìgamya—approaching; räjä—the king;\\nvacanam—words; abravét—spoke.\\n\\nTRANSLATION\\n\\nSaïjaya said: O King, after looking over the army arranged in military\\nformation by the sons of Päëòu, King Duryodhana went to his teacher and\\nspoke the following words.\\n\\nPURPORT\\n\\nDhåtaräñöra  was  blind  from  birth.  Unfortunately,  he  was  also  bereft  of\\nspiritual  vision.  He  knew  very  well  that  his  sons  were  equally  blind  in  the\\nmatter  of  religion,  and  he  was  sure  that  they  could  never  reach  an\\nunderstanding with the Päëòavas, who were all pious since birth. Still he was\\ndoubtful  about  the  influence  of  the  place  of  pilgrimage,  and  Saïjaya  could\\nunderstand his motive in asking about the situation on the battlefield. Saïjaya\\nwanted,  therefore,  to  encourage  the  despondent  king  and  thus  assured  him\\nthat  his  sons  were  not  going  to  make  any  sort  of  compromise  under  the\\ninfluence of the holy place. Saïjaya therefore informed the king that his son,\\nDuryodhana, after seeing the military force of the Päëòavas, at once went to\\nthe  commander  in  chief,  Droëäcärya,  to  inform  him  of  the  real  position.\\nAlthough  Duryodhana  is  mentioned  as  the  king,  he  still  had  to  go  to  the\\ncommander  on  account  of  the  seriousness  of  the  situation.  He  was  therefore\\nquite  fit  to  be  a  politician.  But  Duryodhana’s  diplomatic  veneer  could  not\\ndisguise  the  fear  he  felt  when  he  saw  the  military  arrangement  of  the\\nPäëòavas.\\n\\nTEXT  3\\n\\nPaXYaETaa& Paa<@uPau}aa<aaMaacaYaR MahTaq& cMaUMa( )\\n\\nCopyright © 1998 The Bhaktivedanta Book Trust Int\\'l. All Rights Reserved.\\n\\n\\x0cVYaU!a& d]uPadPau}ae<a Tav iXaZYae<a DaqMaTaa )) 3 ))\\n\\npaçyaitäà päëòu-puträëäm\\näcärya mahatéà camüm\\nvyüòhäà drupada-putreëa\\ntava çiñyeëa dhématä\\n\\nSYNONYMS\\n\\npaçya—behold; etäm—this; päëòu-puträëäm—of the sons of Päëòu;\\näcärya—O teacher; mahatém—great; camüm—military force;\\nvyüòhäm—arranged; drupada-putreëa—by the son of Drupada; tava—your;\\nçiñyeëa—disciple; dhé-matä—very intelligent.\\n\\nTRANSLATION\\n\\nO my teacher, behold the great army of the sons of Päëòu, so expertly\\n\\narranged by your intelligent disciple the son of Drupada.\\n\\nPURPORT\\n\\nDuryodhana,  a  great  diplomat,  wanted  to  point  out  the  defects  of\\nDroëäcärya,  the  great  brähmaëa  commander  in  chief.  Droëäcärya  had  some\\npolitical quarrel with King Drupada, the father of Draupadé, who was Arjuna’s\\nwife. As a result of this quarrel, Drupada performed a great sacrifice, by which\\nhe  received  the  benediction  of  having  a  son  who  would  be  able  to  kill\\nDroëäcärya.  Droëäcärya  knew  this  perfectly  well,  and  yet  as  a  liberal\\nbrähmaëa he did not hesitate to impart all his military secrets when the son of\\nDrupada, Dhåñöadyumna, was entrusted to him for military education. Now, on\\nthe  Battlefield  of  Kurukñetra,  Dhåñöadyumna  took  the  side  of  the  Päëòavas,\\nand it was he who arranged for their military phalanx, after having learned the\\nart from Droëäcärya. Duryodhana pointed out this mistake of Droëäcärya’s so\\nthat he might be alert and uncompromising in the fighting. By this he wanted\\nto  point  out  also  that  he  should  not  be similarly lenient in battle against the\\n\\nCopyright © 1998 The Bhaktivedanta Book Trust Int\\'l. All Rights Reserved.\\n\\n\\x0cPäëòavas,  who  were  also  Droëäcärya’s  affectionate  students.  Arjuna,\\nespecially,  was  his  most  affectionate  and  brilliant  student.  Duryodhana  also\\nwarned that such leniency in the fight would lead to defeat.\\n\\nTEXT  4\\n\\nA}a éUra MaheZvaSaa >aqMaaJauRNaSaMaa YauiDa )\\n\\nYauYauDaaNaae ivra$=ê d]uPadê MaharQa\" )) 4 ))\\n\\natra çürä maheñv-äsä\\nbh'"
      ]
     },
     "execution_count": 43,
     "metadata": {},
     "output_type": "execute_result"
    }
   ],
   "source": [
    "pdf_text[:9000]"
   ]
  },
  {
   "cell_type": "code",
   "execution_count": 44,
   "metadata": {},
   "outputs": [
    {
     "data": {
      "text/plain": [
       "1691181"
      ]
     },
     "execution_count": 44,
     "metadata": {},
     "output_type": "execute_result"
    }
   ],
   "source": [
    "clean_text = pdf_text.replace(\"\\nCopyright © 1998 The Bhaktivedanta Book Trust Int'l. All Rights Reserved.\\n\", \"\")\n",
    "len(clean_text)"
   ]
  },
  {
   "cell_type": "code",
   "execution_count": 46,
   "metadata": {},
   "outputs": [],
   "source": [
    "with open(\"bg.txt\", \"w\", encoding=\"utf-8\") as file:\n",
    "    file.write(clean_text)\n"
   ]
  },
  {
   "cell_type": "code",
   "execution_count": null,
   "metadata": {},
   "outputs": [],
   "source": []
  }
 ],
 "metadata": {
  "kernelspec": {
   "display_name": "Python 3",
   "language": "python",
   "name": "python3"
  },
  "language_info": {
   "codemirror_mode": {
    "name": "ipython",
    "version": 3
   },
   "file_extension": ".py",
   "mimetype": "text/x-python",
   "name": "python",
   "nbconvert_exporter": "python",
   "pygments_lexer": "ipython3",
   "version": "3.11.9"
  }
 },
 "nbformat": 4,
 "nbformat_minor": 2
}
