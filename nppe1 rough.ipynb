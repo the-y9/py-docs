{
 "cells": [
  {
   "cell_type": "code",
   "execution_count": 6,
   "metadata": {},
   "outputs": [],
   "source": [
    "from pprint import pprint"
   ]
  },
  {
   "cell_type": "code",
   "execution_count": 2,
   "metadata": {},
   "outputs": [
    {
     "data": {
      "text/plain": [
       "451"
      ]
     },
     "execution_count": 2,
     "metadata": {},
     "output_type": "execute_result"
    }
   ],
   "source": [
    "import pandas as pd\n",
    "outputs = pd.read_csv(r\"C:\\Users\\dell\\Downloads\\pipeline_outputs.csv\")\n",
    "len(outputs)"
   ]
  },
  {
   "cell_type": "code",
   "execution_count": 44,
   "metadata": {},
   "outputs": [
    {
     "name": "stdout",
     "output_type": "stream",
     "text": [
      "('[{\\'generated_text\\': \\'Sentence: \"অহাৰ সময়ত সামগ্ৰীৰ ছীলটো ভঙা আছিল। মই '\n",
      " 'অনলাইনত অৰ্ডাৰ দিয়াতকৈ দোকান এখনৰ পৰা কিনাৰ পৰামৰ্শ দিম। অনলাইন কিনাৰ '\n",
      " 'পৰামৰ্শ নিদিওঁ\"; \\\\n    Language: \"as\"; \\\\n    Sentiment: \"0\"  (ই\\'}]')\n"
     ]
    }
   ],
   "source": [
    "list = outputs['generated_text'].to_list()\n",
    "data_list = list[1:]\n",
    "pprint(data_list[0])"
   ]
  },
  {
   "cell_type": "code",
   "execution_count": 67,
   "metadata": {},
   "outputs": [
    {
     "name": "stderr",
     "output_type": "stream",
     "text": [
      "100%|██████████| 200/200 [00:00<?, ?it/s]"
     ]
    },
    {
     "name": "stdout",
     "output_type": "stream",
     "text": [
      "250 Negative\n",
      "251 Positive\n",
      "252 Positive\n",
      "253 Positive\n",
      "254 Positive\n",
      "255 Positive\n",
      "256 Positive\n",
      "257 Positive\n",
      "258 Positive\n",
      "259 Positive\n",
      "260 Positive\n",
      "261 Positive\n",
      "262 Positive\n",
      "263 Positive\n",
      "264 Positive\n",
      "265 Positive\n",
      "266 Positive\n",
      "267 Positive\n",
      "268 Positive\n",
      "269 Positive\n",
      "270 Positive\n",
      "271 Positive\n",
      "272 Positive\n",
      "273 Positive\n",
      "274 Positive\n",
      "275 Positive\n",
      "276 Positive\n",
      "277 Positive\n",
      "278 Positive\n",
      "279 Positive\n",
      "280 Positive\n",
      "281 Positive\n",
      "282 Positive\n",
      "283 Positive\n",
      "284 Positive\n",
      "285 Positive\n",
      "286 Positive\n",
      "287 Positive\n",
      "288 Positive\n",
      "289 Positive\n",
      "290 Positive\n",
      "291 Positive\n",
      "292 Positive\n",
      "293 Positive\n",
      "294 Positive\n",
      "295 Positive\n",
      "296 Positive\n",
      "297 Positive\n",
      "298 Positive\n",
      "299 Positive\n",
      "300 Positive\n",
      "301 Positive\n",
      "302 Positive\n",
      "303 Positive\n",
      "304 Positive\n",
      "305 Positive\n",
      "306 Positive\n",
      "307 Positive\n",
      "308 Positive\n",
      "309 Positive\n",
      "310 Positive\n",
      "311 Negative\n",
      "312 Negative\n",
      "313 Negative\n",
      "314 Negative\n",
      "315 Positive\n",
      "316 Positive\n",
      "317 Positive\n",
      "318 Positive\n",
      "319 Positive\n",
      "320 Positive\n",
      "321 Positive\n",
      "322 Positive\n",
      "323 Positive\n",
      "324 Positive\n",
      "325 Positive\n",
      "326 Positive\n",
      "327 Negative\n",
      "328 Positive\n",
      "329 Positive\n",
      "330 Positive\n",
      "331 Positive\n",
      "332 Positive\n",
      "333 Positive\n",
      "334 Positive\n",
      "335 Positive\n",
      "336 Positive\n",
      "337 Positive\n",
      "338 Negative\n",
      "339 Negative\n",
      "340 Negative\n",
      "341 Positive\n",
      "342 Positive\n",
      "343 Positive\n",
      "344 Positive\n",
      "345 Positive\n",
      "346 Positive\n",
      "347 Positive\n",
      "348 Positive\n",
      "349 Positive\n",
      "350 Positive\n",
      "351 Negative\n",
      "352 Positive\n",
      "353 Positive\n",
      "354 Positive\n",
      "355 Positive\n",
      "356 Positive\n",
      "357 Positive\n",
      "358 Positive\n",
      "359 Positive\n",
      "360 Positive\n",
      "361 Positive\n",
      "362 Positive\n",
      "363 Positive\n",
      "364 Positive\n",
      "365 Positive\n",
      "366 Positive\n",
      "367 Positive\n",
      "368 Positive\n",
      "369 Positive\n",
      "370 Positive\n",
      "371 Positive\n",
      "372 Positive\n",
      "373 Positive\n",
      "374 Positive\n",
      "375 Positive\n",
      "376 Positive\n",
      "377 Positive\n",
      "378 Positive\n",
      "379 Positive\n",
      "380 Positive\n",
      "381 Positive\n",
      "382 Positive\n",
      "383 Positive\n",
      "384 Positive\n",
      "385 Positive\n",
      "386 Positive\n",
      "387 Positive\n",
      "388 Positive\n",
      "389 Positive\n",
      "390 Positive\n",
      "391 Positive\n",
      "392 Positive\n",
      "393 Positive\n",
      "394 Positive\n",
      "395 Positive\n",
      "396 Positive\n",
      "397 Positive\n",
      "398 Negative\n",
      "399 Negative\n",
      "400 Positive\n",
      "401 Positive\n",
      "402 Positive\n",
      "403 Negative\n",
      "404 Negative\n",
      "405 Positive\n",
      "406 Positive\n",
      "407 Positive\n",
      "408 Positive\n",
      "409 Positive\n",
      "410 Positive\n",
      "411 Negative\n",
      "412 Negative\n",
      "413 Positive\n",
      "414 Positive\n",
      "415 Positive\n",
      "416 Positive\n",
      "417 Positive\n",
      "418 Positive\n",
      "419 Positive\n",
      "420 Positive\n",
      "421 Positive\n",
      "422 Positive\n",
      "423 Positive\n",
      "424 Positive\n",
      "425 Positive\n",
      "426 Positive\n",
      "427 Positive\n",
      "428 Positive\n",
      "429 Positive\n",
      "430 Negative\n",
      "431 Positive\n",
      "432 Positive\n",
      "433 Positive\n",
      "434 Positive\n",
      "435 Positive\n",
      "436 Positive\n",
      "437 Positive\n",
      "438 Positive\n",
      "439 Positive\n",
      "440 Positive\n",
      "441 Positive\n",
      "442 Positive\n",
      "443 Positive\n",
      "444 Positive\n",
      "445 Positive\n",
      "446 Positive\n",
      "447 Positive\n",
      "448 Positive\n",
      "449 Positive\n"
     ]
    },
    {
     "name": "stderr",
     "output_type": "stream",
     "text": [
      "\n"
     ]
    },
    {
     "data": {
      "text/plain": [
       "(115, 200)"
      ]
     },
     "execution_count": 67,
     "metadata": {},
     "output_type": "execute_result"
    }
   ],
   "source": [
    "l = []\n",
    "import re\n",
    "from tqdm import tqdm\n",
    "for i in tqdm(range(250, len(data_list))):\n",
    "    # Split the string by \"Sentiment:\" and take the part after it\n",
    "    st = data_list[i].split('Sentiment:')[-1]\n",
    "\n",
    "    # Check if the sentiment is positive or negative\n",
    "    if 'positive' in st:\n",
    "        l.append('Positive')\n",
    "    elif 'negative' in st:\n",
    "        l.append('Negative')\n",
    "    else:\n",
    "        # Extract numeric values if no sentiment is found\n",
    "        # Clean the string to extract numeric values only\n",
    "        val = [re.search(r\"[-+]?\\d*\\.\\d+|\\d+\", item).group() for item in [st] if re.search(r\"[-+]?\\d*\\.\\d+|\\d+\", item)]\n",
    "        \n",
    "        if val:\n",
    "            if float(val[0])>=0.5:\n",
    "                l.append('Positive')\n",
    "        else:\n",
    "            l.append('Negative')\n",
    "    print(i, l[-1])\n",
    "            \n",
    "len(l) , len(data_list[250:])"
   ]
  },
  {
   "cell_type": "code",
   "execution_count": 57,
   "metadata": {},
   "outputs": [
    {
     "ename": "ValueError",
     "evalue": "Length of values (115) does not match length of index (451)",
     "output_type": "error",
     "traceback": [
      "\u001b[1;31m---------------------------------------------------------------------------\u001b[0m",
      "\u001b[1;31mValueError\u001b[0m                                Traceback (most recent call last)",
      "Cell \u001b[1;32mIn[57], line 1\u001b[0m\n\u001b[1;32m----> 1\u001b[0m \u001b[43moutputs\u001b[49m\u001b[43m[\u001b[49m\u001b[38;5;124;43m'\u001b[39;49m\u001b[38;5;124;43msentiment\u001b[39;49m\u001b[38;5;124;43m'\u001b[39;49m\u001b[43m]\u001b[49m \u001b[38;5;241m=\u001b[39m l\n",
      "File \u001b[1;32mc:\\Users\\dell\\AppData\\Local\\Programs\\Python\\Python311\\Lib\\site-packages\\pandas\\core\\frame.py:4311\u001b[0m, in \u001b[0;36mDataFrame.__setitem__\u001b[1;34m(self, key, value)\u001b[0m\n\u001b[0;32m   4308\u001b[0m     \u001b[38;5;28mself\u001b[39m\u001b[38;5;241m.\u001b[39m_setitem_array([key], value)\n\u001b[0;32m   4309\u001b[0m \u001b[38;5;28;01melse\u001b[39;00m:\n\u001b[0;32m   4310\u001b[0m     \u001b[38;5;66;03m# set column\u001b[39;00m\n\u001b[1;32m-> 4311\u001b[0m     \u001b[38;5;28;43mself\u001b[39;49m\u001b[38;5;241;43m.\u001b[39;49m\u001b[43m_set_item\u001b[49m\u001b[43m(\u001b[49m\u001b[43mkey\u001b[49m\u001b[43m,\u001b[49m\u001b[43m \u001b[49m\u001b[43mvalue\u001b[49m\u001b[43m)\u001b[49m\n",
      "File \u001b[1;32mc:\\Users\\dell\\AppData\\Local\\Programs\\Python\\Python311\\Lib\\site-packages\\pandas\\core\\frame.py:4524\u001b[0m, in \u001b[0;36mDataFrame._set_item\u001b[1;34m(self, key, value)\u001b[0m\n\u001b[0;32m   4514\u001b[0m \u001b[38;5;28;01mdef\u001b[39;00m\u001b[38;5;250m \u001b[39m\u001b[38;5;21m_set_item\u001b[39m(\u001b[38;5;28mself\u001b[39m, key, value) \u001b[38;5;241m-\u001b[39m\u001b[38;5;241m>\u001b[39m \u001b[38;5;28;01mNone\u001b[39;00m:\n\u001b[0;32m   4515\u001b[0m \u001b[38;5;250m    \u001b[39m\u001b[38;5;124;03m\"\"\"\u001b[39;00m\n\u001b[0;32m   4516\u001b[0m \u001b[38;5;124;03m    Add series to DataFrame in specified column.\u001b[39;00m\n\u001b[0;32m   4517\u001b[0m \n\u001b[1;32m   (...)\u001b[0m\n\u001b[0;32m   4522\u001b[0m \u001b[38;5;124;03m    ensure homogeneity.\u001b[39;00m\n\u001b[0;32m   4523\u001b[0m \u001b[38;5;124;03m    \"\"\"\u001b[39;00m\n\u001b[1;32m-> 4524\u001b[0m     value, refs \u001b[38;5;241m=\u001b[39m \u001b[38;5;28;43mself\u001b[39;49m\u001b[38;5;241;43m.\u001b[39;49m\u001b[43m_sanitize_column\u001b[49m\u001b[43m(\u001b[49m\u001b[43mvalue\u001b[49m\u001b[43m)\u001b[49m\n\u001b[0;32m   4526\u001b[0m     \u001b[38;5;28;01mif\u001b[39;00m (\n\u001b[0;32m   4527\u001b[0m         key \u001b[38;5;129;01min\u001b[39;00m \u001b[38;5;28mself\u001b[39m\u001b[38;5;241m.\u001b[39mcolumns\n\u001b[0;32m   4528\u001b[0m         \u001b[38;5;129;01mand\u001b[39;00m value\u001b[38;5;241m.\u001b[39mndim \u001b[38;5;241m==\u001b[39m \u001b[38;5;241m1\u001b[39m\n\u001b[0;32m   4529\u001b[0m         \u001b[38;5;129;01mand\u001b[39;00m \u001b[38;5;129;01mnot\u001b[39;00m \u001b[38;5;28misinstance\u001b[39m(value\u001b[38;5;241m.\u001b[39mdtype, ExtensionDtype)\n\u001b[0;32m   4530\u001b[0m     ):\n\u001b[0;32m   4531\u001b[0m         \u001b[38;5;66;03m# broadcast across multiple columns if necessary\u001b[39;00m\n\u001b[0;32m   4532\u001b[0m         \u001b[38;5;28;01mif\u001b[39;00m \u001b[38;5;129;01mnot\u001b[39;00m \u001b[38;5;28mself\u001b[39m\u001b[38;5;241m.\u001b[39mcolumns\u001b[38;5;241m.\u001b[39mis_unique \u001b[38;5;129;01mor\u001b[39;00m \u001b[38;5;28misinstance\u001b[39m(\u001b[38;5;28mself\u001b[39m\u001b[38;5;241m.\u001b[39mcolumns, MultiIndex):\n",
      "File \u001b[1;32mc:\\Users\\dell\\AppData\\Local\\Programs\\Python\\Python311\\Lib\\site-packages\\pandas\\core\\frame.py:5266\u001b[0m, in \u001b[0;36mDataFrame._sanitize_column\u001b[1;34m(self, value)\u001b[0m\n\u001b[0;32m   5263\u001b[0m     \u001b[38;5;28;01mreturn\u001b[39;00m _reindex_for_setitem(value, \u001b[38;5;28mself\u001b[39m\u001b[38;5;241m.\u001b[39mindex)\n\u001b[0;32m   5265\u001b[0m \u001b[38;5;28;01mif\u001b[39;00m is_list_like(value):\n\u001b[1;32m-> 5266\u001b[0m     \u001b[43mcom\u001b[49m\u001b[38;5;241;43m.\u001b[39;49m\u001b[43mrequire_length_match\u001b[49m\u001b[43m(\u001b[49m\u001b[43mvalue\u001b[49m\u001b[43m,\u001b[49m\u001b[43m \u001b[49m\u001b[38;5;28;43mself\u001b[39;49m\u001b[38;5;241;43m.\u001b[39;49m\u001b[43mindex\u001b[49m\u001b[43m)\u001b[49m\n\u001b[0;32m   5267\u001b[0m arr \u001b[38;5;241m=\u001b[39m sanitize_array(value, \u001b[38;5;28mself\u001b[39m\u001b[38;5;241m.\u001b[39mindex, copy\u001b[38;5;241m=\u001b[39m\u001b[38;5;28;01mTrue\u001b[39;00m, allow_2d\u001b[38;5;241m=\u001b[39m\u001b[38;5;28;01mTrue\u001b[39;00m)\n\u001b[0;32m   5268\u001b[0m \u001b[38;5;28;01mif\u001b[39;00m (\n\u001b[0;32m   5269\u001b[0m     \u001b[38;5;28misinstance\u001b[39m(value, Index)\n\u001b[0;32m   5270\u001b[0m     \u001b[38;5;129;01mand\u001b[39;00m value\u001b[38;5;241m.\u001b[39mdtype \u001b[38;5;241m==\u001b[39m \u001b[38;5;124m\"\u001b[39m\u001b[38;5;124mobject\u001b[39m\u001b[38;5;124m\"\u001b[39m\n\u001b[1;32m   (...)\u001b[0m\n\u001b[0;32m   5273\u001b[0m     \u001b[38;5;66;03m# TODO: Remove kludge in sanitize_array for string mode when enforcing\u001b[39;00m\n\u001b[0;32m   5274\u001b[0m     \u001b[38;5;66;03m# this deprecation\u001b[39;00m\n",
      "File \u001b[1;32mc:\\Users\\dell\\AppData\\Local\\Programs\\Python\\Python311\\Lib\\site-packages\\pandas\\core\\common.py:573\u001b[0m, in \u001b[0;36mrequire_length_match\u001b[1;34m(data, index)\u001b[0m\n\u001b[0;32m    569\u001b[0m \u001b[38;5;250m\u001b[39m\u001b[38;5;124;03m\"\"\"\u001b[39;00m\n\u001b[0;32m    570\u001b[0m \u001b[38;5;124;03mCheck the length of data matches the length of the index.\u001b[39;00m\n\u001b[0;32m    571\u001b[0m \u001b[38;5;124;03m\"\"\"\u001b[39;00m\n\u001b[0;32m    572\u001b[0m \u001b[38;5;28;01mif\u001b[39;00m \u001b[38;5;28mlen\u001b[39m(data) \u001b[38;5;241m!=\u001b[39m \u001b[38;5;28mlen\u001b[39m(index):\n\u001b[1;32m--> 573\u001b[0m     \u001b[38;5;28;01mraise\u001b[39;00m \u001b[38;5;167;01mValueError\u001b[39;00m(\n\u001b[0;32m    574\u001b[0m         \u001b[38;5;124m\"\u001b[39m\u001b[38;5;124mLength of values \u001b[39m\u001b[38;5;124m\"\u001b[39m\n\u001b[0;32m    575\u001b[0m         \u001b[38;5;124mf\u001b[39m\u001b[38;5;124m\"\u001b[39m\u001b[38;5;124m(\u001b[39m\u001b[38;5;132;01m{\u001b[39;00m\u001b[38;5;28mlen\u001b[39m(data)\u001b[38;5;132;01m}\u001b[39;00m\u001b[38;5;124m) \u001b[39m\u001b[38;5;124m\"\u001b[39m\n\u001b[0;32m    576\u001b[0m         \u001b[38;5;124m\"\u001b[39m\u001b[38;5;124mdoes not match length of index \u001b[39m\u001b[38;5;124m\"\u001b[39m\n\u001b[0;32m    577\u001b[0m         \u001b[38;5;124mf\u001b[39m\u001b[38;5;124m\"\u001b[39m\u001b[38;5;124m(\u001b[39m\u001b[38;5;132;01m{\u001b[39;00m\u001b[38;5;28mlen\u001b[39m(index)\u001b[38;5;132;01m}\u001b[39;00m\u001b[38;5;124m)\u001b[39m\u001b[38;5;124m\"\u001b[39m\n\u001b[0;32m    578\u001b[0m     )\n",
      "\u001b[1;31mValueError\u001b[0m: Length of values (115) does not match length of index (451)"
     ]
    }
   ],
   "source": [
    "outputs['sentiment'] = l"
   ]
  },
  {
   "cell_type": "code",
   "execution_count": 69,
   "metadata": {},
   "outputs": [],
   "source": [
    "from sklearn.metrics import accuracy_score, precision_recall_fscore_support, f1_score"
   ]
  },
  {
   "cell_type": "code",
   "execution_count": 71,
   "metadata": {},
   "outputs": [
    {
     "data": {
      "text/plain": [
       "0.5"
      ]
     },
     "execution_count": 71,
     "metadata": {},
     "output_type": "execute_result"
    }
   ],
   "source": [
    "f1_score([1,0,0,1],[0,1,0,1])"
   ]
  }
 ],
 "metadata": {
  "kernelspec": {
   "display_name": "Python 3",
   "language": "python",
   "name": "python3"
  },
  "language_info": {
   "codemirror_mode": {
    "name": "ipython",
    "version": 3
   },
   "file_extension": ".py",
   "mimetype": "text/x-python",
   "name": "python",
   "nbconvert_exporter": "python",
   "pygments_lexer": "ipython3",
   "version": "3.11.9"
  }
 },
 "nbformat": 4,
 "nbformat_minor": 2
}
